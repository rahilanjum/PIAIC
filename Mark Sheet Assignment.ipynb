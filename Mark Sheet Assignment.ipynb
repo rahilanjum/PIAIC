{
 "cells": [
  {
   "cell_type": "code",
   "execution_count": 10,
   "metadata": {},
   "outputs": [
    {
     "name": "stdout",
     "output_type": "stream",
     "text": [
      "Maths = 70\n",
      "Physics = 60\n",
      "Chemistry = 65\n",
      "English = 88\n",
      "Urdu = 39\n",
      "\n",
      "Total_Marks = 322\n",
      "Percentage = 64.4 %\n",
      "Grade B\n"
     ]
    }
   ],
   "source": [
    "# Marksheet\n",
    "\n",
    "subject = (\"Maths\", \"Physics\", \"Chemistry\",\"English\",\"Urdu\")\n",
    "marks = (70,60,65,88,39)\n",
    "total_marks = sum(marks)\n",
    "percentage = round((total_marks / 500 * 100),2)\n",
    "\n",
    "if(percentage>=80):\n",
    "    Grade='A+'\n",
    "elif(percentage>=70 and percentage<80):\n",
    "    Grade='A'\n",
    "elif(percentage>=60 and percentage<70):\n",
    "    Grade='B'\n",
    "elif(percentage>=50 and percentage<60):\n",
    "    Grade='D'\n",
    "elif(percentage>=40 and percentage<50):\n",
    "    Grade='E'\n",
    "else:\n",
    "    Grade='F'\n",
    "\n",
    "print(subject[0], \"=\" ,marks[0])\n",
    "print(subject[1], \"=\" ,marks[1])\n",
    "print(subject[2], \"=\" , marks[2])\n",
    "print(subject[3], \"=\" , marks[3])\n",
    "print(subject[4], \"=\" , marks[4])\n",
    "print()\n",
    "print(\"Total_Marks =\", total_marks)\n",
    "print(\"Percentage =\", percentage,\"%\")\n",
    "print(\"Grade\", Grade)\n"
   ]
  },
  {
   "cell_type": "code",
   "execution_count": null,
   "metadata": {},
   "outputs": [],
   "source": []
  }
 ],
 "metadata": {
  "kernelspec": {
   "display_name": "Python 3",
   "language": "python",
   "name": "python3"
  },
  "language_info": {
   "codemirror_mode": {
    "name": "ipython",
    "version": 3
   },
   "file_extension": ".py",
   "mimetype": "text/x-python",
   "name": "python",
   "nbconvert_exporter": "python",
   "pygments_lexer": "ipython3",
   "version": "3.7.3"
  }
 },
 "nbformat": 4,
 "nbformat_minor": 2
}
