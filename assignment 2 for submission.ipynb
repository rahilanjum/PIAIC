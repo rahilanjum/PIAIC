{
 "cells": [
  {
   "cell_type": "code",
   "execution_count": 6,
   "metadata": {},
   "outputs": [
    {
     "name": "stdout",
     "output_type": "stream",
     "text": [
      "The file example_html_file.html has about 81 words.\n",
      "Total Tags=  10\n"
     ]
    }
   ],
   "source": [
    "try:\n",
    "    with open('example_html_file.html') as f_obj:\n",
    "        contents = f_obj.read()\n",
    "except FileNotFoundError:\n",
    "    msg = \"Sorry, the file \" + filename + \" does not exist.\"\n",
    "    print(msg)\n",
    "else:\n",
    "    words = contents.split()\n",
    "    num_words = len(words)\n",
    "    print(\"The file \" + 'example_html_file.html' + \" has about \" + str(num_words) + \" words.\")\n",
    "    \n",
    "p = contents.count('</')\n",
    "u = contents.count('/>')\n",
    "totalTags = p + u\n",
    "\n",
    "print(\"Total Tags= \", totalTags)\n",
    "\n",
    "from html.parser import HTMLParser\n",
    "\n",
    "class content(HTMLParser):\n",
    "    def handle_starttag(self, tag, attrs):\n",
    "        print(\"Encountered a start tag:\", tag)\n",
    "    def handle_endtag(self, tag):\n",
    "        print(\"Encountered an end tag :\", tag)"
   ]
  },
  {
   "cell_type": "code",
   "execution_count": 8,
   "metadata": {},
   "outputs": [
    {
     "name": "stdout",
     "output_type": "stream",
     "text": [
      "number of words in the file= 38128\n",
      "number of lines in the file= 137184\n",
      "number of spaces in the file= 137184\n"
     ]
    }
   ],
   "source": [
    "try:\n",
    "    with open('sample_text_file.txt4', encoding ='utf8') as f_obj:\n",
    "        contents = f_obj.read()\n",
    "except FileNotFoundError:\n",
    "    msg = \"Sorry, the file \" + filename + \" does not exist.\"\n",
    "    print(msg)\n",
    "else:\n",
    "    words = contents.split()\n",
    "    num_words = len(words)\n",
    "    num_lines = sum(1 for line in contents)\n",
    "    spaces = sum(1 for isSpace in contents)\n",
    "    \n",
    "      \n",
    "    print(\"number of words in the file= \" + str(num_words))\n",
    "    print(\"number of lines in the file= \" + str(num_lines))\n",
    "    print(\"number of spaces in the file= \" + str(spaces))"
   ]
  }
 ],
 "metadata": {
  "kernelspec": {
   "display_name": "Python 3",
   "language": "python",
   "name": "python3"
  },
  "language_info": {
   "codemirror_mode": {
    "name": "ipython",
    "version": 3
   },
   "file_extension": ".py",
   "mimetype": "text/x-python",
   "name": "python",
   "nbconvert_exporter": "python",
   "pygments_lexer": "ipython3",
   "version": "3.7.3"
  }
 },
 "nbformat": 4,
 "nbformat_minor": 2
}
