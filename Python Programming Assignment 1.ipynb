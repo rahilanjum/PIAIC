{
 "cells": [
  {
   "cell_type": "code",
   "execution_count": 95,
   "metadata": {},
   "outputs": [
    {
     "name": "stdout",
     "output_type": "stream",
     "text": [
      "radius = 0.5\n",
      "Area of a circle =  3.142\n"
     ]
    }
   ],
   "source": [
    "# 1. Calculate Area of a Circle\n",
    "\n",
    "r = float(input (\"radius = \"))\n",
    "\n",
    "print(\"Area of a circle = \", round(3.14159 * (radius * radius),3))\n",
    "\n"
   ]
  },
  {
   "cell_type": "code",
   "execution_count": 94,
   "metadata": {},
   "outputs": [
    {
     "name": "stdout",
     "output_type": "stream",
     "text": [
      "write any number = 0\n",
      "Zero Entered\n"
     ]
    }
   ],
   "source": [
    "# 2. Check Number either positive, negative or zero \n",
    "\n",
    "number = float(input (\"write any number = \"))\n",
    "\n",
    "if number > 0:\n",
    "    print(\"Positive Number Entered\")\n",
    "elif number < 0:\n",
    "    print(\"Negative Numbered Entered\")\n",
    "else:\n",
    "    print(\"Zero Entered\")\n"
   ]
  },
  {
   "cell_type": "code",
   "execution_count": 93,
   "metadata": {},
   "outputs": [
    {
     "name": "stdout",
     "output_type": "stream",
     "text": [
      "Enter Numerator = 10\n",
      "Enter Denominator = 5\n",
      "number 10 is completely divisible by 5\n"
     ]
    }
   ],
   "source": [
    "# 3. Divisibility Check of two numbers\n",
    "\n",
    "a = int(input (\"Enter Numerator = \"))\n",
    "b = int(input (\"Enter Denominator = \"))\n",
    "\n",
    "if a % b == 0:\n",
    "    print(\"number\", a , \"is completely divisible by\", b)\n",
    "else:\n",
    "    print(\"number\", a , \"is not completely divisible by\", b)"
   ]
  },
  {
   "cell_type": "code",
   "execution_count": 78,
   "metadata": {},
   "outputs": [
    {
     "name": "stdout",
     "output_type": "stream",
     "text": [
      "Enter a date in (dd/mm/yy) = 22/05/18\n",
      "Enter a date in (dd/mm/yy) = 26/05/18\n"
     ]
    },
    {
     "ename": "TypeError",
     "evalue": "unsupported operand type(s) for -: 'str' and 'str'",
     "output_type": "error",
     "traceback": [
      "\u001b[1;31m---------------------------------------------------------------------------\u001b[0m",
      "\u001b[1;31mTypeError\u001b[0m                                 Traceback (most recent call last)",
      "\u001b[1;32m<ipython-input-78-a3e5a7878767>\u001b[0m in \u001b[0;36m<module>\u001b[1;34m\u001b[0m\n\u001b[0;32m      5\u001b[0m \u001b[1;33m\u001b[0m\u001b[0m\n\u001b[0;32m      6\u001b[0m \u001b[1;33m\u001b[0m\u001b[0m\n\u001b[1;32m----> 7\u001b[1;33m \u001b[0mcalculate_days\u001b[0m \u001b[1;33m=\u001b[0m \u001b[1;33m(\u001b[0m\u001b[0mdate_format\u001b[0m\u001b[1;33m(\u001b[0m\u001b[0mlast_date\u001b[0m \u001b[1;33m-\u001b[0m \u001b[0mfirst_date\u001b[0m\u001b[1;33m)\u001b[0m\u001b[1;33m,\u001b[0m \u001b[1;34m\"%d,%m,%y\"\u001b[0m\u001b[1;33m)\u001b[0m\u001b[1;33m\u001b[0m\u001b[1;33m\u001b[0m\u001b[0m\n\u001b[0m\u001b[0;32m      8\u001b[0m \u001b[1;33m\u001b[0m\u001b[0m\n\u001b[0;32m      9\u001b[0m \u001b[0mprint\u001b[0m\u001b[1;33m(\u001b[0m\u001b[1;34m\"There are\"\u001b[0m\u001b[1;33m,\u001b[0m \u001b[0mcalculated_days\u001b[0m\u001b[1;33m,\u001b[0m \u001b[1;34m\"in between\"\u001b[0m\u001b[1;33m,\u001b[0m \u001b[0mfirst_date\u001b[0m\u001b[1;33m,\u001b[0m \u001b[1;34m\"and\"\u001b[0m\u001b[1;33m,\u001b[0m \u001b[0mlast_date\u001b[0m\u001b[1;33m)\u001b[0m\u001b[1;33m\u001b[0m\u001b[1;33m\u001b[0m\u001b[0m\n",
      "\u001b[1;31mTypeError\u001b[0m: unsupported operand type(s) for -: 'str' and 'str'"
     ]
    }
   ],
   "source": [
    "# 4. Days Calculator\n",
    "\n",
    "first_date = input (\"Enter a date in (dd/mm/yy) = \")\n",
    "last_date = input (\"Enter a date in (dd/mm/yy) = \")\n",
    "\n",
    "\n",
    "calculate_days = last_date - first_date\n",
    "\n",
    "print(\"There are\", calculated_days, \"in between\", first_date, \"and\", last_date)\n",
    "\n",
    "#There are 4 days in between 12/12/2018 and 16/12/18"
   ]
  },
  {
   "cell_type": "code",
   "execution_count": 92,
   "metadata": {},
   "outputs": [
    {
     "name": "stdout",
     "output_type": "stream",
     "text": [
      "radius of sphere = 1\n",
      "Volume of the sphere with Radius 1.0 is =  4.19\n"
     ]
    }
   ],
   "source": [
    "# 5. Calculate Volume of a sphere\n",
    "\n",
    "r = float(input (\"radius of sphere = \"))\n",
    "\n",
    "print(\"Volume of the sphere with Radius\", r ,  \"is = \", round( 4 / 3 * 3.14159 * (radius * radius),2))\n",
    "\n"
   ]
  },
  {
   "cell_type": "code",
   "execution_count": 91,
   "metadata": {},
   "outputs": [
    {
     "name": "stdout",
     "output_type": "stream",
     "text": [
      "Enter any thing Hi\n",
      "How many copies you need 4\n",
      "4 Copies of Hi are  HiHiHiHi\n"
     ]
    }
   ],
   "source": [
    "# 6. Copy string n times\n",
    "    \n",
    "write = str(input(\"Enter any thing \"))\n",
    "need = int(input (\"How many copies you need \"))\n",
    "\n",
    "print(need, \"Copies of\", write, \"are \", need * write)"
   ]
  },
  {
   "cell_type": "code",
   "execution_count": 90,
   "metadata": {},
   "outputs": [
    {
     "name": "stdout",
     "output_type": "stream",
     "text": [
      "Enter a number: 10\n",
      "10 is Even\n"
     ]
    }
   ],
   "source": [
    "# 7. Check if number is Even or Odd\n",
    "\n",
    "number = int(input(\"Enter a number: \"))\n",
    "\n",
    "if (number % 2) == 0:\n",
    "   print(\"{0} is Even\".format(number))\n",
    "else:\n",
    "   print(\"{0} is Odd\".format(number))"
   ]
  },
  {
   "cell_type": "code",
   "execution_count": 99,
   "metadata": {},
   "outputs": [
    {
     "name": "stdout",
     "output_type": "stream",
     "text": [
      "Enter a character: a\n",
      "Letter a is a vowel\n"
     ]
    }
   ],
   "source": [
    "# 8. Vowel Tester\n",
    "x = input(\"Enter a character: \")\n",
    "\n",
    "if (x == \"a\" or x == \"A\" or x == \"e\" or x == \"E\" or x == \"i\" or x == \"I\" or x == \"o\" or x == \"O\" or x == \"u\" or x == \"U\"):\n",
    "    print(\"Letter\", x, \"is a vowel\")\n",
    "else:\n",
    "    print(\"Letter\", x, \"is a Consonant\")\n"
   ]
  },
  {
   "cell_type": "code",
   "execution_count": null,
   "metadata": {},
   "outputs": [],
   "source": []
  }
 ],
 "metadata": {
  "kernelspec": {
   "display_name": "Python 3",
   "language": "python",
   "name": "python3"
  },
  "language_info": {
   "codemirror_mode": {
    "name": "ipython",
    "version": 3
   },
   "file_extension": ".py",
   "mimetype": "text/x-python",
   "name": "python",
   "nbconvert_exporter": "python",
   "pygments_lexer": "ipython3",
   "version": "3.7.3"
  }
 },
 "nbformat": 4,
 "nbformat_minor": 2
}
