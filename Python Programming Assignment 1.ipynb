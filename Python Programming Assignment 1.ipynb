{
 "cells": [
  {
   "cell_type": "code",
   "execution_count": 95,
   "metadata": {},
   "outputs": [
    {
     "name": "stdout",
     "output_type": "stream",
     "text": [
      "radius = 0.5\n",
      "Area of a circle =  3.142\n"
     ]
    }
   ],
   "source": [
    "# 1. Calculate Area of a Circle\n",
    "\n",
    "r = float(input (\"radius = \"))\n",
    "\n",
    "print(\"Area of a circle = \", round(3.14159 * (radius * radius),3))\n",
    "\n"
   ]
  },
  {
   "cell_type": "code",
   "execution_count": 94,
   "metadata": {},
   "outputs": [
    {
     "name": "stdout",
     "output_type": "stream",
     "text": [
      "write any number = 0\n",
      "Zero Entered\n"
     ]
    }
   ],
   "source": [
    "# 2. Check Number either positive, negative or zero \n",
    "\n",
    "number = float(input (\"write any number = \"))\n",
    "\n",
    "if number > 0:\n",
    "    print(\"Positive Number Entered\")\n",
    "elif number < 0:\n",
    "    print(\"Negative Numbered Entered\")\n",
    "else:\n",
    "    print(\"Zero Entered\")\n"
   ]
  },
  {
   "cell_type": "code",
   "execution_count": 93,
   "metadata": {},
   "outputs": [
    {
     "name": "stdout",
     "output_type": "stream",
     "text": [
      "Enter Numerator = 10\n",
      "Enter Denominator = 5\n",
      "number 10 is completely divisible by 5\n"
     ]
    }
   ],
   "source": [
    "# 3. Divisibility Check of two numbers\n",
    "\n",
    "a = int(input (\"Enter Numerator = \"))\n",
    "b = int(input (\"Enter Denominator = \"))\n",
    "\n",
    "if a % b == 0:\n",
    "    print(\"number\", a , \"is completely divisible by\", b)\n",
    "else:\n",
    "    print(\"number\", a , \"is not completely divisible by\", b)"
   ]
  },
  {
   "cell_type": "code",
   "execution_count": 2,
   "metadata": {},
   "outputs": [
    {
     "name": "stdout",
     "output_type": "stream",
     "text": [
      "Enter a date in (dd/mm/yy) format: 22/05/2019\n",
      "Enter a date in (dd/mm/yy) format: 26/05/2019\n",
      "There are  4 days between  2019-05-22  and  2019-05-26\n"
     ]
    }
   ],
   "source": [
    "# 4. Days Calculator\n",
    "\n",
    "from datetime import datetime\n",
    "\n",
    "startDate = input(\"Enter a date in (dd/mm/yy) format: \")\n",
    "endDate = input(\"Enter a date in (dd/mm/yy) format: \")\n",
    "\n",
    "finalstartDate = datetime.strptime(startDate,\"%d/%m/%Y\").date()\n",
    "finalendDate = datetime.strptime(endDate,\"%d/%m/%Y\").date()\n",
    "\n",
    "remainingDays = finalendDate - finalstartDate\n",
    "\n",
    "print (\"There are \", remainingDays.days, \"days between \", finalstartDate,\" and \",finalendDate)"
   ]
  },
  {
   "cell_type": "code",
   "execution_count": 92,
   "metadata": {},
   "outputs": [
    {
     "name": "stdout",
     "output_type": "stream",
     "text": [
      "radius of sphere = 1\n",
      "Volume of the sphere with Radius 1.0 is =  4.19\n"
     ]
    }
   ],
   "source": [
    "# 5. Calculate Volume of a sphere\n",
    "\n",
    "r = float(input (\"radius of sphere = \"))\n",
    "\n",
    "print(\"Volume of the sphere with Radius\", r ,  \"is = \", round( 4 / 3 * 3.14159 * (radius * radius),2))\n",
    "\n"
   ]
  },
  {
   "cell_type": "code",
   "execution_count": 91,
   "metadata": {},
   "outputs": [
    {
     "name": "stdout",
     "output_type": "stream",
     "text": [
      "Enter any thing Hi\n",
      "How many copies you need 4\n",
      "4 Copies of Hi are  HiHiHiHi\n"
     ]
    }
   ],
   "source": [
    "# 6. Copy string n times\n",
    "    \n",
    "write = str(input(\"Enter any thing \"))\n",
    "need = int(input (\"How many copies you need \"))\n",
    "\n",
    "print(need, \"Copies of\", write, \"are \", need * write)"
   ]
  },
  {
   "cell_type": "code",
   "execution_count": 90,
   "metadata": {},
   "outputs": [
    {
     "name": "stdout",
     "output_type": "stream",
     "text": [
      "Enter a number: 10\n",
      "10 is Even\n"
     ]
    }
   ],
   "source": [
    "# 7. Check if number is Even or Odd\n",
    "\n",
    "number = int(input(\"Enter a number: \"))\n",
    "\n",
    "if (number % 2) == 0:\n",
    "   print(\"{0} is Even\".format(number))\n",
    "else:\n",
    "   print(\"{0} is Odd\".format(number))"
   ]
  },
  {
   "cell_type": "code",
   "execution_count": 99,
   "metadata": {},
   "outputs": [
    {
     "name": "stdout",
     "output_type": "stream",
     "text": [
      "Enter a character: a\n",
      "Letter a is a vowel\n"
     ]
    }
   ],
   "source": [
    "# 8. Vowel Tester\n",
    "x = input(\"Enter a character: \")\n",
    "\n",
    "if (x == \"a\" or x == \"A\" or x == \"e\" or x == \"E\" or x == \"i\" or x == \"I\" or x == \"o\" or x == \"O\" or x == \"u\" or x == \"U\"):\n",
    "    print(\"Letter\", x, \"is a vowel\")\n",
    "else:\n",
    "    print(\"Letter\", x, \"is a Consonant\")\n"
   ]
  },
  {
   "cell_type": "code",
   "execution_count": 1,
   "metadata": {},
   "outputs": [
    {
     "name": "stdout",
     "output_type": "stream",
     "text": [
      "Base of Triangle = 4\n",
      "Height of Triangle = 4\n",
      "Area of a Triangle with Height 4.0 and Base 4.0 is 8.0\n"
     ]
    }
   ],
   "source": [
    "# 9. Triangle area\n",
    "\n",
    "base = float(input (\"Base of Triangle = \"))\n",
    "height = float(input (\"Height of Triangle = \"))\n",
    "\n",
    "print(\"Area of a Triangle with Height\", height , \"and\" , \"Base\", base, \"is\", 1/2 * base * height)"
   ]
  },
  {
   "cell_type": "code",
   "execution_count": 11,
   "metadata": {},
   "outputs": [
    {
     "name": "stdout",
     "output_type": "stream",
     "text": [
      "Please enter principal amount= 10000\n",
      "Please Enter Rate of interest in %= 3.875\n",
      "Enter number of years for investment= 5\n",
      "After 5.0 years your principal amount 10000.0 over an interest rate of 3.875 % will be 11937.5\n"
     ]
    }
   ],
   "source": [
    "# 10. Calculate Interest\n",
    "\n",
    "p = float(input (\"Please enter principal amount= \")) \n",
    "r = float(input (\"Please Enter Rate of interest in %= \"))\n",
    "y = float(input (\"Enter number of years for investment= \"))\n",
    "\n",
    "accrued = p * (1 + (r /100 * y))\n",
    "\n",
    "print(\"After\", y, \"years your principal amount\", p, \"over an interest rate of\", r, \"% will be\", accrued)\n",
    "\n"
   ]
  },
  {
   "cell_type": "code",
   "execution_count": 3,
   "metadata": {},
   "outputs": [
    {
     "name": "stdout",
     "output_type": "stream",
     "text": [
      "Enter Co-Ordinate For x1 :2\n",
      "Enter Co-Ordinate For x2 :4\n",
      "Enter Co-Ordinate For y1 :4\n",
      "Enter Co-Ordinate For y2 :4\n",
      "2.0\n"
     ]
    }
   ],
   "source": [
    "# 11. Euclidean distance\n",
    "\n",
    "import math\n",
    "\n",
    "x1 = int(input(\"Enter Co-Ordinate For x1 :\"))\n",
    "x2 = int(input(\"Enter Co-Ordinate For x2 :\"))\n",
    "y1 = int(input(\"Enter Co-Ordinate For y1 :\"))\n",
    "y2 = int(input(\"Enter Co-Ordinate For y2 :\"))\n",
    "\n",
    "distance = math.sqrt( ((x1-y1)**2)+((x2-y2)**2) )\n",
    "\n",
    "print(distance)"
   ]
  },
  {
   "cell_type": "code",
   "execution_count": 13,
   "metadata": {},
   "outputs": [
    {
     "name": "stdout",
     "output_type": "stream",
     "text": [
      "Enter Height in Feet= 5\n",
      "There are 152.4 Cm in 5.0 ft\n"
     ]
    }
   ],
   "source": [
    "# 12. Feet to Centimeter Converter\n",
    "\n",
    "h = float(input(\"Enter Height in Feet= \"))\n",
    "\n",
    "print(\"There are\", 30.48 * h, \"Cm in\", h ,\"ft\")\n"
   ]
  },
  {
   "cell_type": "code",
   "execution_count": 19,
   "metadata": {},
   "outputs": [
    {
     "name": "stdout",
     "output_type": "stream",
     "text": [
      "Enter Height in Cm= 180\n",
      "Enter Weight in Kg= 75\n",
      "Your BMI is 23.15\n"
     ]
    }
   ],
   "source": [
    "# 13. BMI Calculator\n",
    "\n",
    "h = float(input (\"Enter Height in Cm= \"))\n",
    "w = float(input (\"Enter Weight in Kg= \"))\n",
    "cm_to_m = h / 100\n",
    "bmi = round(w / (cm_to_m * cm_to_m),2)\n",
    "\n",
    "print(\"Your BMI is\", bmi)\n",
    "\n"
   ]
  },
  {
   "cell_type": "code",
   "execution_count": 3,
   "metadata": {},
   "outputs": [
    {
     "name": "stdout",
     "output_type": "stream",
     "text": [
      "Enter value of n= 5\n",
      "Sum of n Positive integers till 5 is 15.0\n"
     ]
    }
   ],
   "source": [
    "# 14. Sum of n Positive Integers\n",
    "\n",
    "n = int(input (\"Enter value of n= \"))\n",
    "sum = n * (n + 1)/2\n",
    "\n",
    "print(\"Sum of n Positive integers till\", n, \"is\", sum)"
   ]
  },
  {
   "cell_type": "code",
   "execution_count": 5,
   "metadata": {},
   "outputs": [
    {
     "name": "stdout",
     "output_type": "stream",
     "text": [
      "Enter a Number1234\n",
      "1 + 2 + 3 + 4\n",
      "Sum Of  1 + 2 + 3 + 4  is  10\n"
     ]
    }
   ],
   "source": [
    "# 15. Digits Sum of a Number \n",
    "\n",
    "number =int(input(\"Enter a Number\"))\n",
    "\n",
    "sumnum = str(number)\n",
    "\n",
    "lst = list(sumnum)\n",
    "\n",
    "\n",
    "totalDigits = ' + '.join(sumnum)\n",
    "\n",
    "print(totalDigits)\n",
    "\n",
    "total = 0\n",
    "while number>0:\n",
    "    digit = number%10\n",
    "    total = total+digit\n",
    "    number = number//10\n",
    "print(\"Sum Of \", totalDigits, \" is \", total)\n"
   ]
  },
  {
   "cell_type": "code",
   "execution_count": 7,
   "metadata": {},
   "outputs": [
    {
     "name": "stdout",
     "output_type": "stream",
     "text": [
      "Enter a decimal number 42\n",
      "Binary Representation of  42  is  10101 "
     ]
    }
   ],
   "source": [
    "# 16. Decimal to Binary Converter \n",
    "\n",
    "decimalNumber = int(input(\"Enter a decimal number \"))\n",
    "finalDecimalNumber = decimalNumber\n",
    "\n",
    "# to store binary numbers in list\n",
    "array=[]\n",
    "\n",
    "while(decimalNumber>0):\n",
    "    digit=decimalNumber%2\n",
    "    array.append(digit)\n",
    "    decimalNumber=decimalNumber//2\n",
    "    \n",
    "    # Converting integer list to string list\n",
    "    s = [str(i) for i in array] \n",
    "      \n",
    "    # Join list items using join() \n",
    "    res = int(\"\".join(s))     \n",
    "array.reverse()\n",
    "\n",
    "print(\"Binary Representation of \", finalDecimalNumber,\" is \",res,end=\" \")"
   ]
  },
  {
   "cell_type": "code",
   "execution_count": 9,
   "metadata": {},
   "outputs": [
    {
     "name": "stdout",
     "output_type": "stream",
     "text": [
      "Enter a Binary number 101010\n",
      "Decimal Representation of  101010  is  42\n"
     ]
    }
   ],
   "source": [
    "#17 Binary To Decimal Converter\n",
    "\n",
    "binaryNumber = input(\"Enter a Binary number \")\n",
    "binaryNumberList = list(binaryNumber)\n",
    "defaultValue = 0\n",
    "actualNumber = str(binaryNumber)\n",
    "\n",
    "\n",
    "\n",
    "for d in range(len(binaryNumberList)):\n",
    "    numbers = binaryNumberList.pop()\n",
    "    if numbers == '1':\n",
    "        defaultValue = defaultValue + pow(2, d)\n",
    "print(\"Decimal Representation of \", actualNumber,\" is \" ,defaultValue)"
   ]
  },
  {
   "cell_type": "code",
   "execution_count": 12,
   "metadata": {},
   "outputs": [
    {
     "name": "stdout",
     "output_type": "stream",
     "text": [
      "Enter Text aeiou\n",
      "Vowels :  5\n",
      "Consonants :  0\n"
     ]
    }
   ],
   "source": [
    "#18 Vowel and Consonants Counter \n",
    "\n",
    "userInput = input(\"Enter Text \")\n",
    "vowels = 0\n",
    "consonants = 0\n",
    "for i in userInput:\n",
    "    if(i == 'a' or i == 'e' or i == 'i' or i == 'o' or i == 'u'\n",
    "       or i == 'A' or i == 'E' or i == 'I' or i == 'O' or i == 'U'):\n",
    "        vowels = vowels + 1\n",
    "    else:\n",
    "        consonants = consonants + 1\n",
    "\n",
    "print(\"Vowels : \",vowels)\n",
    "print(\"Consonants : \",consonants)"
   ]
  },
  {
   "cell_type": "code",
   "execution_count": 14,
   "metadata": {},
   "outputs": [
    {
     "name": "stdout",
     "output_type": "stream",
     "text": [
      "Enter Text :AHA\n",
      "Text  AHA  is Palindrome\n"
     ]
    }
   ],
   "source": [
    "#19 Palindrome tester \n",
    "\n",
    "userInput = input(\"Enter Text :\")\n",
    "palindrome = userInput[::-1]\n",
    "if userInput == palindrome:\n",
    "    print(\"Text \" , userInput,\" is Palindrome\")\n",
    "else:\n",
    "    print(\"Text \" , userInput,\" is not Palindrome\")"
   ]
  },
  {
   "cell_type": "code",
   "execution_count": 16,
   "metadata": {},
   "outputs": [
    {
     "name": "stdout",
     "output_type": "stream",
     "text": [
      "Please Enter your Own String : rest@123.com\n",
      "\n",
      "Total Number of Alphabets in this String :   7\n",
      "Total Number of Digits in this String :   3\n",
      "Total Number of Special Characters in this String :   2\n",
      "Total Number of Spaces in this String :   0\n"
     ]
    }
   ],
   "source": [
    "#20 Count Alphabets, Numbers and Special Characters  \n",
    "\n",
    "userInput = input(\"Please Enter your Own String : \")\n",
    "alphabets = digits = special = 0\n",
    "spaces = userInput.count(' ')\n",
    "for i in range(len(userInput)):\n",
    "    if(userInput[i].isalpha()):\n",
    "        alphabets = alphabets + 1\n",
    "    elif(userInput[i].isdigit()):\n",
    "        digits = digits + 1\n",
    "    else:\n",
    "        special = special + 1\n",
    "\n",
    "specialCharacter = special - spaces\n",
    "print(\"\\nTotal Number of Alphabets in this String :  \", alphabets)\n",
    "print(\"Total Number of Digits in this String :  \", digits)\n",
    "print(\"Total Number of Special Characters in this String :  \", specialCharacter) \n",
    "print(\"Total Number of Spaces in this String :  \", spaces)"
   ]
  },
  {
   "cell_type": "code",
   "execution_count": 17,
   "metadata": {},
   "outputs": [
    {
     "name": "stdout",
     "output_type": "stream",
     "text": [
      "\n",
      "* \n",
      "* * \n",
      "* * * \n",
      "* * * * \n",
      "* * * * * \n",
      "* * * * \n",
      "* * * \n",
      "* * \n",
      "* \n"
     ]
    }
   ],
   "source": [
    "#21 Pattern 1\n",
    "\n",
    "number=5;\n",
    "for i in range(number):\n",
    "    for j in range(i):\n",
    "        print ('* ', end=\"\")\n",
    "        \n",
    "    print('')\n",
    "\n",
    "for i in range(number,0,-1):\n",
    "    for j in range(i):\n",
    "        print('* ', end=\"\")\n",
    "    print('')"
   ]
  },
  {
   "cell_type": "code",
   "execution_count": 18,
   "metadata": {},
   "outputs": [
    {
     "name": "stdout",
     "output_type": "stream",
     "text": [
      "\n",
      "1\n",
      "12\n",
      "123\n",
      "1234\n",
      "12345\n",
      "1234\n",
      "123\n",
      "12\n",
      "1\n"
     ]
    }
   ],
   "source": [
    "#22  Pattern 2 \n",
    "\n",
    "number=5\n",
    "random = 1\n",
    "for i in range(number):\n",
    "    for j in range(i):\n",
    "        print (j+1, end=\"\")\n",
    "    \n",
    "    print('')\n",
    "\n",
    "for i in range(5,0,-1):\n",
    "    for j in range(i):\n",
    "        print(j+1, end=\"\")\n",
    "    print('')"
   ]
  },
  {
   "cell_type": "code",
   "execution_count": 19,
   "metadata": {},
   "outputs": [
    {
     "name": "stdout",
     "output_type": "stream",
     "text": [
      "\n",
      "1\n",
      "22\n",
      "333\n",
      "4444\n",
      "55555\n",
      "666666\n",
      "7777777\n",
      "88888888\n",
      "999999999\n"
     ]
    }
   ],
   "source": [
    "#23 Pattern 3\n",
    "\n",
    "for i in range(10):\n",
    "    print(str(i) * i)"
   ]
  },
  {
   "cell_type": "code",
   "execution_count": null,
   "metadata": {},
   "outputs": [],
   "source": []
  }
 ],
 "metadata": {
  "kernelspec": {
   "display_name": "Python 3",
   "language": "python",
   "name": "python3"
  },
  "language_info": {
   "codemirror_mode": {
    "name": "ipython",
    "version": 3
   },
   "file_extension": ".py",
   "mimetype": "text/x-python",
   "name": "python",
   "nbconvert_exporter": "python",
   "pygments_lexer": "ipython3",
   "version": "3.7.3"
  }
 },
 "nbformat": 4,
 "nbformat_minor": 2
}
